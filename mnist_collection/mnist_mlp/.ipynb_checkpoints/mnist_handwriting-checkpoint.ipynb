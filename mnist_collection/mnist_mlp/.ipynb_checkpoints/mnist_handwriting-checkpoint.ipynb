{
 "cells": [
  {
   "cell_type": "markdown",
   "metadata": {},
   "source": [
    "# MNIST Handwritten Digits Multi-layer perceptron - Pytorch"
   ]
  },
  {
   "cell_type": "code",
   "execution_count": null,
   "metadata": {},
   "outputs": [],
   "source": [
    "import numpy as np\n",
    "import torch\n",
    "from torchvision import datasets, transforms\n",
    "from torch.utils.data.sampler import SubsetRandomSampler"
   ]
  },
  {
   "cell_type": "code",
   "execution_count": 17,
   "metadata": {},
   "outputs": [
    {
     "name": "stdout",
     "output_type": "stream",
     "text": [
      "CUDA is not available.  Training on CPU ...\n"
     ]
    }
   ],
   "source": [
    "# To tensor & normalize with a mean of 0.5, std of 0.5\n",
    "transform = transforms.Compose([transforms.ToTensor(),\n",
    "                                transforms.Normalize((0.5,),(0.5,))])\n",
    "\n",
    "# check if CUDA is available\n",
    "train_on_gpu = torch.cuda.is_available()\n",
    "\n",
    "if not train_on_gpu:\n",
    "    print('CUDA is not available.  Training on CPU ...')\n",
    "else:\n",
    "    print('CUDA is available!  Training on GPU ...')\n",
    "\n",
    "valid_size = 0.2\n",
    "\n",
    "train_set = datasets.MNIST(\"./\",download = True,train= True,transform=transform)\n",
    "\n",
    "# Split traing data for validation data\n",
    "num_train = len(train_set)\n",
    "indices = list(range(num_train))\n",
    "np.random.shuffle(indices)\n",
    "split = int(np.floor(valid_size*num_train))\n",
    "train_idx = indices[:split]\n",
    "valid_idx = indices[split:]\n",
    "train_sampler = SubsetRandomSampler(train_idx)\n",
    "valid_sampler = SubsetRandomSampler(valid_idx)\n",
    "\n",
    "train_loader = torch.utils.data.DataLoader(train_set,batch_size = 20, sampler = train_sampler)\n",
    "valid_loader = torch.utils.data.DataLoader(train_set,batch_size = 20, sampler = valid_sampler)\n",
    "\n",
    "test_set = datasets.MNIST(\"./\",download = True,train= False,transform=transform)\n",
    "test_loader = torch.utils.data.DataLoader(test_set,batch_size = 20, shuffle = True)\n",
    "\n"
   ]
  },
  {
   "cell_type": "code",
   "execution_count": 18,
   "metadata": {},
   "outputs": [
    {
     "data": {
      "image/png": "[encoded data removed]",
      "text/plain": [
       "<matplotlib.figure.Figure at 0x7f6f7f58ce10>"
      ]
     },
     "metadata": {},
     "output_type": "display_data"
    }
   ],
   "source": [
    "import matplotlib.pyplot as plt\n",
    "%matplotlib inline\n",
    "\n",
    "# Visualize data\n",
    "data_iter = iter(train_loader)\n",
    "images, labels = data_iter.next()\n",
    "images = images.numpy()\n",
    "fig = plt.figure(figsize=(25,5))\n",
    "for idx in np.arange(20):\n",
    "    ax = fig.add_subplot(2,20/2,idx + 1, xticks=[],yticks=[])\n",
    "    ax.imshow(np.squeeze(images[idx]), cmap = \"gray\")\n",
    "    ax.set_title(str(labels[idx].item()))"
   ]
  },
  {
   "cell_type": "code",
   "execution_count": 19,
   "metadata": {},
   "outputs": [],
   "source": [
    "from torch import nn,optim\n",
    "\n",
    "# define model class\n",
    "class Classifier(nn.Module):\n",
    "    def __init__(self):\n",
    "        super().__init__()\n",
    "        self.fc1 = nn.Linear(784,256)\n",
    "        self.fc2 = nn.Linear(256,128)\n",
    "        self.fc3 = nn.Linear(128,64)\n",
    "        self.fc4 = nn.Linear(64,10)\n",
    "        self.dropout = nn.Dropout(0.2)\n",
    "        self.softmax = nn.LogSoftmax(dim = 1)\n",
    "        self.relu = nn.ReLU()\n",
    "    def forward(self, x):\n",
    "        # makes sure input tensor is flattened\n",
    "        x = x.view(x.shape[0], - 1)\n",
    "        x = self.fc1(x)\n",
    "        x = self.relu(x)\n",
    "        x = self.dropout(x)\n",
    "        x = self.fc2(x)\n",
    "        x = self.relu(x)\n",
    "        x = self.dropout(x)\n",
    "        x = self.fc3(x)\n",
    "        x = self.relu(x)\n",
    "        x = self.dropout(x)\n",
    "        x = self.fc4(x)\n",
    "        x = self.softmax(x)\n",
    "        return x"
   ]
  },
  {
   "cell_type": "code",
   "execution_count": 20,
   "metadata": {},
   "outputs": [
    {
     "name": "stdout",
     "output_type": "stream",
     "text": [
      "Classifier(\n",
      "  (fc1): Linear(in_features=784, out_features=256, bias=True)\n",
      "  (fc2): Linear(in_features=256, out_features=128, bias=True)\n",
      "  (fc3): Linear(in_features=128, out_features=64, bias=True)\n",
      "  (fc4): Linear(in_features=64, out_features=10, bias=True)\n",
      "  (dropout): Dropout(p=0.2)\n",
      "  (softmax): LogSoftmax()\n",
      "  (relu): ReLU()\n",
      ")\n"
     ]
    }
   ],
   "source": [
    "model = Classifier()\n",
    "print(model)"
   ]
  },
  {
   "cell_type": "code",
   "execution_count": 21,
   "metadata": {},
   "outputs": [],
   "source": [
    "# Since I am returning softmax val, NLL is used instead of CrossEntorypy\n",
    "#criterion = nn.CrossEntropyLoss()\n",
    "criterion = nn.NLLLoss()\n",
    "optimizer = torch.optim.SGD(model.parameters(),lr = 0.01)"
   ]
  },
  {
   "cell_type": "code",
   "execution_count": 22,
   "metadata": {},
   "outputs": [
    {
     "name": "stdout",
     "output_type": "stream",
     "text": [
      "Epoch: 1 \tTraining Loss: 1.997710 \t Validation Loss 1.187448 \t Accuracy: 66.62%\n",
      "Epoch: 2 \tTraining Loss: 0.910216 \t Validation Loss 0.550875 \t Accuracy: 84.71%\n",
      "Epoch: 3 \tTraining Loss: 0.610154 \t Validation Loss 0.426965 \t Accuracy: 88.16%\n",
      "Epoch: 4 \tTraining Loss: 0.502562 \t Validation Loss 0.370788 \t Accuracy: 89.47%\n",
      "Epoch: 5 \tTraining Loss: 0.429251 \t Validation Loss 0.357543 \t Accuracy: 89.34%\n",
      "Epoch: 6 \tTraining Loss: 0.383375 \t Validation Loss 0.297999 \t Accuracy: 91.31%\n",
      "Epoch: 7 \tTraining Loss: 0.350645 \t Validation Loss 0.292389 \t Accuracy: 91.62%\n",
      "Epoch: 8 \tTraining Loss: 0.314796 \t Validation Loss 0.251800 \t Accuracy: 92.72%\n",
      "Epoch: 9 \tTraining Loss: 0.287069 \t Validation Loss 0.249843 \t Accuracy: 92.97%\n",
      "Epoch: 10 \tTraining Loss: 0.260944 \t Validation Loss 0.224498 \t Accuracy: 93.37%\n",
      "Epoch: 11 \tTraining Loss: 0.241693 \t Validation Loss 0.224096 \t Accuracy: 93.66%\n",
      "Epoch: 12 \tTraining Loss: 0.228792 \t Validation Loss 0.199095 \t Accuracy: 94.44%\n",
      "Epoch: 13 \tTraining Loss: 0.212585 \t Validation Loss 0.200268 \t Accuracy: 94.17%\n",
      "Epoch: 14 \tTraining Loss: 0.203114 \t Validation Loss 0.188401 \t Accuracy: 94.48%\n",
      "Epoch: 15 \tTraining Loss: 0.187887 \t Validation Loss 0.191518 \t Accuracy: 94.70%\n",
      "Epoch: 16 \tTraining Loss: 0.173494 \t Validation Loss 0.178125 \t Accuracy: 95.05%\n",
      "Epoch: 17 \tTraining Loss: 0.171579 \t Validation Loss 0.178316 \t Accuracy: 94.93%\n",
      "Epoch: 18 \tTraining Loss: 0.160539 \t Validation Loss 0.173109 \t Accuracy: 95.06%\n",
      "Epoch: 19 \tTraining Loss: 0.147440 \t Validation Loss 0.164314 \t Accuracy: 95.38%\n",
      "Epoch: 20 \tTraining Loss: 0.139538 \t Validation Loss 0.165553 \t Accuracy: 95.44%\n",
      "Epoch: 21 \tTraining Loss: 0.127449 \t Validation Loss 0.153084 \t Accuracy: 95.71%\n",
      "Epoch: 22 \tTraining Loss: 0.123311 \t Validation Loss 0.152350 \t Accuracy: 95.86%\n",
      "Epoch: 23 \tTraining Loss: 0.121041 \t Validation Loss 0.163705 \t Accuracy: 95.47%\n",
      "Epoch: 24 \tTraining Loss: 0.114794 \t Validation Loss 0.161541 \t Accuracy: 95.39%\n",
      "Epoch: 25 \tTraining Loss: 0.105289 \t Validation Loss 0.181506 \t Accuracy: 95.18%\n",
      "Epoch: 26 \tTraining Loss: 0.101391 \t Validation Loss 0.157492 \t Accuracy: 95.86%\n",
      "Epoch: 27 \tTraining Loss: 0.100236 \t Validation Loss 0.154882 \t Accuracy: 95.75%\n",
      "Epoch: 28 \tTraining Loss: 0.093521 \t Validation Loss 0.149615 \t Accuracy: 96.06%\n",
      "Epoch: 29 \tTraining Loss: 0.094549 \t Validation Loss 0.150271 \t Accuracy: 95.96%\n",
      "Epoch: 30 \tTraining Loss: 0.083635 \t Validation Loss 0.158486 \t Accuracy: 95.63%\n"
     ]
    }
   ],
   "source": [
    "epochs = 30\n",
    "valid_loss_min = np.Inf\n",
    "\n",
    "for epoch in range(epochs):\n",
    "    train_loss = 0.0\n",
    "    valid_loss = 0.0\n",
    "    model.train()\n",
    "    for data,label in train_loader:\n",
    "        \n",
    "        if train_on_gpu:\n",
    "            data, label = data.cuda(), target.cuda()\n",
    "        \n",
    "        optimizer.zero_grad()\n",
    "        output = model(data)\n",
    "        loss = criterion(output,label)\n",
    "        loss.backward()\n",
    "        optimizer.step()\n",
    "        train_loss += loss.item()*data.size(0)\n",
    "    \n",
    "    with torch.no_grad():\n",
    "        model.eval()\n",
    "        for data,label in valid_loader:\n",
    "            \n",
    "            if train_on_gpu:\n",
    "                data, label = data.cuda(), target.cuda()\n",
    "            \n",
    "            output = model(data)\n",
    "            loss = criterion(output,label)\n",
    "            valid_loss += loss.item()*data.size(0)\n",
    "        \n",
    "        test_loss = 0\n",
    "        accuracy = 0\n",
    "        \n",
    "        for data,label in test_loader:\n",
    "            \n",
    "            if train_on_gpu:\n",
    "                data, label = data.cuda(), target.cuda()\n",
    "            \n",
    "            log_ps = model(data)\n",
    "            test_loss += criterion(log_ps,label)\n",
    "            ps = torch.exp(log_ps)\n",
    "            top_p, top_class = ps.topk(1,dim=1)\n",
    "            equals = top_class == label.view(*top_class.shape)\n",
    "            accuracy += torch.mean(equals.type(torch.FloatTensor))\n",
    "    \n",
    "    train_loss = train_loss / len(train_loader.sampler)\n",
    "    valid_loss = valid_loss / len(valid_loader.sampler)\n",
    "    accuracy = accuracy /len(test_loader) * 100.0\n",
    "    \n",
    "    print(\"Epoch: {} \\tTraining Loss: {:.6f} \\t Validation Loss {:.6f} \\t Accuracy: {:.2f}%\".format(\n",
    "        epoch + 1,train_loss,valid_loss,accuracy))\n",
    "    \n",
    "    # saves the best model\n",
    "    if valid_loss < valid_loss_min:\n",
    "        torch.save(model.state_dict(),\"MNIST_Classifier.pt\")\n",
    "        valid_loss_min = valid_loss\n",
    "    \n",
    "        \n"
   ]
  },
  {
   "cell_type": "code",
   "execution_count": 23,
   "metadata": {},
   "outputs": [
    {
     "data": {
      "image/png": "[encoded data removed]",
      "text/plain": [
       "<matplotlib.figure.Figure at 0x7f6ff4749ba8>"
      ]
     },
     "metadata": {},
     "output_type": "display_data"
    }
   ],
   "source": [
    "model.eval()\n",
    "data_iter = iter(test_loader)\n",
    "images,labels = data_iter.next()\n",
    "output = model(images)\n",
    "\n",
    "_, preds = torch.max(output,1)\n",
    "fig = plt.figure(figsize=(25,4))\n",
    "for idx in np.arange(20):\n",
    "    ax = fig.add_subplot(2,20/2,idx + 1,xticks=[],yticks=[])\n",
    "    ax.imshow(np.squeeze(images[idx]), cmap=\"gray\")\n",
    "    ax.set_title(\"{} ({})\".format(str(preds[idx].item()), str(labels[idx].item())),\n",
    "                color = (\"green\" if preds[idx] == labels[idx] else \"red\"))\n"
   ]
  },
  {
   "cell_type": "code",
   "execution_count": 24,
   "metadata": {},
   "outputs": [],
   "source": [
    "# Saves the model\n",
    "#print(\"My model: \\n\\n\", model,'\\n')\n",
    "#print(\"The state dict keys: \\n\\n\", model.state_dict().keys())\n",
    "#torch.save(model.state_dict(),\"checkpoint.pth\")"
   ]
  },
  {
   "cell_type": "code",
   "execution_count": 34,
   "metadata": {},
   "outputs": [
    {
     "data": {
      "text/plain": [
       "IncompatibleKeys(missing_keys=[], unexpected_keys=[])"
      ]
     },
     "execution_count": 34,
     "metadata": {},
     "output_type": "execute_result"
    }
   ],
   "source": [
    "# Testing my handwritten digit\n",
    "best_model = Classifier()\n",
    "best_model.load_state_dict(torch.load(\"MNIST_Classifier.pt\"))"
   ]
  },
  {
   "cell_type": "code",
   "execution_count": 36,
   "metadata": {},
   "outputs": [
    {
     "data": {
      "image/png": "[encoded data removed]",
      "text/plain": [
       "<matplotlib.figure.Figure at 0x7f6f7f6402b0>"
      ]
     },
     "metadata": {
      "needs_background": "light"
     },
     "output_type": "display_data"
    }
   ],
   "source": [
    "from PIL import Image\n",
    "from matplotlib.pyplot import imshow\n",
    "import helper\n",
    "\n",
    "#1,2,4,7,8\n",
    "image = Image.open(\"7.jpg\",'r')\n",
    "imshow(image)\n",
    "tr = transforms.Compose([transforms.Resize((28,28)), transforms.Grayscale(num_output_channels=1), transforms.ToTensor(),\n",
    "                                transforms.Normalize((0.5,),(0.5,))])\n",
    "image = tr(image)\n",
    "image = image.view(1,1,784)\n",
    "\n",
    "i = 0\n",
    "for x in image[0][0]:\n",
    "    if x == 1.0:\n",
    "        image[0][0][i] = -1.0\n",
    "    i = i + 1"
   ]
  },
  {
   "cell_type": "code",
   "execution_count": 37,
   "metadata": {},
   "outputs": [
    {
     "data": {
      "image/png": "[encoded data removed]",
      "text/plain": [
       "<matplotlib.figure.Figure at 0x7f6f7f64fa90>"
      ]
     },
     "metadata": {
      "needs_background": "light"
     },
     "output_type": "display_data"
    }
   ],
   "source": [
    "logps = best_model(image)\n",
    "ps = torch.exp(logps)\n",
    "helper.view_classify(image.view(1,28,28),ps)"
   ]
  },
  {
   "cell_type": "code",
   "execution_count": 28,
   "metadata": {},
   "outputs": [],
   "source": [
    "#data_iter = iter(train_loader)\n",
    "#images, labels = data_iter.next()\n",
    "#x = model(images[0])\n",
    "#ps = torch.exp(x)\n",
    "#helper.view_classify(images[0].view(1,28,28),ps)"
   ]
  },
  {
   "cell_type": "code",
   "execution_count": null,
   "metadata": {},
   "outputs": [],
   "source": []
  }
 ],
 "metadata": {
  "kernelspec": {
   "display_name": "Python 3",
   "language": "python",
   "name": "python3"
  },
  "language_info": {
   "codemirror_mode": {
    "name": "ipython",
    "version": 3
   },
   "file_extension": ".py",
   "mimetype": "text/x-python",
   "name": "python",
   "nbconvert_exporter": "python",
   "pygments_lexer": "ipython3",
   "version": "3.6.8"
  }
 },
 "nbformat": 4,
 "nbformat_minor": 2
}
