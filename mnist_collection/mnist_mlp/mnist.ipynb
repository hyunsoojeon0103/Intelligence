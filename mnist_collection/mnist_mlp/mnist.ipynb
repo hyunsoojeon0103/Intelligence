{
 "cells": [
  {
   "cell_type": "markdown",
   "metadata": {},
   "source": [
    "# MNIST Handwritten Digits Multi-layer perceptron - Pytorch"
   ]
  },
  {
   "cell_type": "code",
   "execution_count": 1,
   "metadata": {},
   "outputs": [],
   "source": [
    "import numpy as np\n",
    "import torch\n",
    "from torchvision import datasets, transforms\n",
    "from torch.utils.data.sampler import SubsetRandomSampler"
   ]
  },
  {
   "cell_type": "code",
   "execution_count": 2,
   "metadata": {},
   "outputs": [
    {
     "name": "stdout",
     "output_type": "stream",
     "text": [
      "CUDA is not available.  Training on CPU ...\n"
     ]
    }
   ],
   "source": [
    "# To tensor & normalize with a mean of 0.5, std of 0.5\n",
    "transform = transforms.Compose([transforms.ToTensor(),\n",
    "                                transforms.Normalize((0.5,),(0.5,))])\n",
    "\n",
    "# check if CUDA is available\n",
    "train_on_gpu = torch.cuda.is_available()\n",
    "\n",
    "if not train_on_gpu:\n",
    "    print('CUDA is not available.  Training on CPU ...')\n",
    "else:\n",
    "    print('CUDA is available!  Training on GPU ...')\n",
    "\n",
    "valid_size = 0.2\n",
    "\n",
    "train_set = datasets.MNIST(\"./\",download = True,train= True,transform=transform)\n",
    "\n",
    "# Split traing data for validation data\n",
    "num_train = len(train_set)\n",
    "indices = list(range(num_train))\n",
    "np.random.shuffle(indices)\n",
    "split = int(np.floor(valid_size*num_train))\n",
    "train_idx = indices[:split]\n",
    "valid_idx = indices[split:]\n",
    "train_sampler = SubsetRandomSampler(train_idx)\n",
    "valid_sampler = SubsetRandomSampler(valid_idx)\n",
    "\n",
    "train_loader = torch.utils.data.DataLoader(train_set,batch_size = 20, sampler = train_sampler)\n",
    "valid_loader = torch.utils.data.DataLoader(train_set,batch_size = 20, sampler = valid_sampler)\n",
    "\n",
    "test_set = datasets.MNIST(\"./\",download = True,train= False,transform=transform)\n",
    "test_loader = torch.utils.data.DataLoader(test_set,batch_size = 20, shuffle = True)"
   ]
  },
  {
   "cell_type": "code",
   "execution_count": 3,
   "metadata": {},
   "outputs": [
    {
     "data": {
      "image/png": "[encoded data removed]",
      "text/plain": [
       "<matplotlib.figure.Figure at 0x7f5b15da9cf8>"
      ]
     },
     "metadata": {},
     "output_type": "display_data"
    }
   ],
   "source": [
    "import matplotlib.pyplot as plt\n",
    "%matplotlib inline\n",
    "\n",
    "# Visualize data\n",
    "data_iter = iter(train_loader)\n",
    "images, labels = data_iter.next()\n",
    "images = images.numpy()\n",
    "fig = plt.figure(figsize=(25,5))\n",
    "for idx in np.arange(20):\n",
    "    ax = fig.add_subplot(2,20/2,idx + 1, xticks=[],yticks=[])\n",
    "    ax.imshow(np.squeeze(images[idx]), cmap = \"gray\")\n",
    "    ax.set_title(str(labels[idx].item()))"
   ]
  },
  {
   "cell_type": "code",
   "execution_count": 4,
   "metadata": {},
   "outputs": [],
   "source": [
    "from torch import nn,optim\n",
    "\n",
    "# define model class\n",
    "class Classifier(nn.Module):\n",
    "    def __init__(self):\n",
    "        super().__init__()\n",
    "        self.fc1 = nn.Linear(784,256)\n",
    "        self.fc2 = nn.Linear(256,128)\n",
    "        self.fc3 = nn.Linear(128,64)\n",
    "        self.fc4 = nn.Linear(64,10)\n",
    "        self.dropout = nn.Dropout(0.2)\n",
    "        self.softmax = nn.LogSoftmax(dim = 1)\n",
    "        self.relu = nn.ReLU()\n",
    "    def forward(self, x):\n",
    "        # makes sure input tensor is flattened\n",
    "        x = x.view(x.shape[0], - 1)\n",
    "        x = self.fc1(x)\n",
    "        x = self.relu(x)\n",
    "        x = self.dropout(x)\n",
    "        x = self.fc2(x)\n",
    "        x = self.relu(x)\n",
    "        x = self.dropout(x)\n",
    "        x = self.fc3(x)\n",
    "        x = self.relu(x)\n",
    "        x = self.dropout(x)\n",
    "        x = self.fc4(x)\n",
    "        x = self.softmax(x)\n",
    "        return x"
   ]
  },
  {
   "cell_type": "code",
   "execution_count": 5,
   "metadata": {},
   "outputs": [
    {
     "name": "stdout",
     "output_type": "stream",
     "text": [
      "Classifier(\n",
      "  (fc1): Linear(in_features=784, out_features=256, bias=True)\n",
      "  (fc2): Linear(in_features=256, out_features=128, bias=True)\n",
      "  (fc3): Linear(in_features=128, out_features=64, bias=True)\n",
      "  (fc4): Linear(in_features=64, out_features=10, bias=True)\n",
      "  (dropout): Dropout(p=0.2)\n",
      "  (softmax): LogSoftmax()\n",
      "  (relu): ReLU()\n",
      ")\n"
     ]
    }
   ],
   "source": [
    "model = Classifier()\n",
    "print(model)"
   ]
  },
  {
   "cell_type": "code",
   "execution_count": 6,
   "metadata": {},
   "outputs": [],
   "source": [
    "# Since I am returning softmax val, NLL is used instead of CrossEntorypy\n",
    "#criterion = nn.CrossEntropyLoss()\n",
    "criterion = nn.NLLLoss()\n",
    "optimizer = torch.optim.SGD(model.parameters(),lr = 0.01)"
   ]
  },
  {
   "cell_type": "code",
   "execution_count": 7,
   "metadata": {},
   "outputs": [
    {
     "name": "stdout",
     "output_type": "stream",
     "text": [
      "Epoch: 1 \tTraining Loss: 2.105463 \t Validation Loss 1.442063 \t Accuracy: 61.01%\n",
      "Epoch: 2 \tTraining Loss: 1.054434 \t Validation Loss 0.658432 \t Accuracy: 81.29%\n",
      "Epoch: 3 \tTraining Loss: 0.671490 \t Validation Loss 0.459625 \t Accuracy: 87.45%\n",
      "Epoch: 4 \tTraining Loss: 0.511191 \t Validation Loss 0.405641 \t Accuracy: 88.12%\n",
      "Epoch: 5 \tTraining Loss: 0.436276 \t Validation Loss 0.341725 \t Accuracy: 90.52%\n",
      "Epoch: 6 \tTraining Loss: 0.386661 \t Validation Loss 0.331712 \t Accuracy: 90.74%\n",
      "Epoch: 7 \tTraining Loss: 0.350235 \t Validation Loss 0.292316 \t Accuracy: 91.97%\n",
      "Epoch: 8 \tTraining Loss: 0.319828 \t Validation Loss 0.278534 \t Accuracy: 91.99%\n",
      "Epoch: 9 \tTraining Loss: 0.293504 \t Validation Loss 0.251062 \t Accuracy: 93.00%\n",
      "Epoch: 10 \tTraining Loss: 0.275678 \t Validation Loss 0.240611 \t Accuracy: 93.24%\n",
      "Epoch: 11 \tTraining Loss: 0.256784 \t Validation Loss 0.240927 \t Accuracy: 93.54%\n",
      "Epoch: 12 \tTraining Loss: 0.236230 \t Validation Loss 0.220540 \t Accuracy: 93.75%\n",
      "Epoch: 13 \tTraining Loss: 0.220913 \t Validation Loss 0.224509 \t Accuracy: 93.70%\n",
      "Epoch: 14 \tTraining Loss: 0.201259 \t Validation Loss 0.209389 \t Accuracy: 93.82%\n",
      "Epoch: 15 \tTraining Loss: 0.185000 \t Validation Loss 0.192079 \t Accuracy: 94.54%\n",
      "Epoch: 16 \tTraining Loss: 0.173784 \t Validation Loss 0.188845 \t Accuracy: 94.68%\n",
      "Epoch: 17 \tTraining Loss: 0.172435 \t Validation Loss 0.195606 \t Accuracy: 94.56%\n",
      "Epoch: 18 \tTraining Loss: 0.161390 \t Validation Loss 0.186784 \t Accuracy: 94.95%\n",
      "Epoch: 19 \tTraining Loss: 0.152116 \t Validation Loss 0.186559 \t Accuracy: 94.76%\n",
      "Epoch: 20 \tTraining Loss: 0.141819 \t Validation Loss 0.166355 \t Accuracy: 95.41%\n",
      "Epoch: 21 \tTraining Loss: 0.136861 \t Validation Loss 0.188295 \t Accuracy: 94.81%\n",
      "Epoch: 22 \tTraining Loss: 0.128571 \t Validation Loss 0.165366 \t Accuracy: 95.54%\n",
      "Epoch: 23 \tTraining Loss: 0.125054 \t Validation Loss 0.168059 \t Accuracy: 95.74%\n",
      "Epoch: 24 \tTraining Loss: 0.117001 \t Validation Loss 0.157938 \t Accuracy: 95.73%\n",
      "Epoch: 25 \tTraining Loss: 0.113163 \t Validation Loss 0.165477 \t Accuracy: 95.52%\n",
      "Epoch: 26 \tTraining Loss: 0.106899 \t Validation Loss 0.154703 \t Accuracy: 95.78%\n",
      "Epoch: 27 \tTraining Loss: 0.103366 \t Validation Loss 0.157319 \t Accuracy: 95.77%\n",
      "Epoch: 28 \tTraining Loss: 0.097734 \t Validation Loss 0.161742 \t Accuracy: 95.54%\n",
      "Epoch: 29 \tTraining Loss: 0.097472 \t Validation Loss 0.160569 \t Accuracy: 95.97%\n",
      "Epoch: 30 \tTraining Loss: 0.090268 \t Validation Loss 0.163000 \t Accuracy: 95.86%\n"
     ]
    }
   ],
   "source": [
    "epochs = 30\n",
    "valid_loss_min = np.Inf\n",
    "\n",
    "for epoch in range(epochs):\n",
    "    train_loss = 0.0\n",
    "    valid_loss = 0.0\n",
    "    model.train()\n",
    "    for data,label in train_loader:\n",
    "        \n",
    "        if train_on_gpu:\n",
    "            data, label = data.cuda(), target.cuda()\n",
    "        \n",
    "        optimizer.zero_grad()\n",
    "        output = model(data)\n",
    "        loss = criterion(output,label)\n",
    "        loss.backward()\n",
    "        optimizer.step()\n",
    "        train_loss += loss.item()*data.size(0)\n",
    "    \n",
    "    with torch.no_grad():\n",
    "        model.eval()\n",
    "        for data,label in valid_loader:\n",
    "            \n",
    "            if train_on_gpu:\n",
    "                data, label = data.cuda(), target.cuda()\n",
    "            \n",
    "            output = model(data)\n",
    "            loss = criterion(output,label)\n",
    "            valid_loss += loss.item()*data.size(0)\n",
    "        \n",
    "        test_loss = 0\n",
    "        accuracy = 0\n",
    "        \n",
    "        for data,label in test_loader:\n",
    "            \n",
    "            if train_on_gpu:\n",
    "                data, label = data.cuda(), target.cuda()\n",
    "            \n",
    "            log_ps = model(data)\n",
    "            test_loss += criterion(log_ps,label)\n",
    "            ps = torch.exp(log_ps)\n",
    "            top_p, top_class = ps.topk(1,dim=1)\n",
    "            equals = top_class == label.view(*top_class.shape)\n",
    "            accuracy += torch.mean(equals.type(torch.FloatTensor))\n",
    "    \n",
    "    train_loss = train_loss / len(train_loader.sampler)\n",
    "    valid_loss = valid_loss / len(valid_loader.sampler)\n",
    "    accuracy = accuracy /len(test_loader) * 100.0\n",
    "    \n",
    "    print(\"Epoch: {} \\tTraining Loss: {:.6f} \\t Validation Loss {:.6f} \\t Accuracy: {:.2f}%\".format(\n",
    "        epoch + 1,train_loss,valid_loss,accuracy))\n",
    "    \n",
    "    # saves the best model\n",
    "    if valid_loss < valid_loss_min:\n",
    "        torch.save(model.state_dict(),\"checkpoint.pt\")\n",
    "        valid_loss_min = valid_loss"
   ]
  },
  {
   "cell_type": "code",
   "execution_count": 8,
   "metadata": {},
   "outputs": [
    {
     "data": {
      "image/png": "[encoded data removed]",
      "text/plain": [
       "<matplotlib.figure.Figure at 0x7f5a9c66f320>"
      ]
     },
     "metadata": {},
     "output_type": "display_data"
    }
   ],
   "source": [
    "model.eval()\n",
    "data_iter = iter(test_loader)\n",
    "images,labels = data_iter.next()\n",
    "output = model(images)\n",
    "\n",
    "_, preds = torch.max(output,1)\n",
    "fig = plt.figure(figsize=(25,4))\n",
    "for idx in np.arange(20):\n",
    "    ax = fig.add_subplot(2,20/2,idx + 1,xticks=[],yticks=[])\n",
    "    ax.imshow(np.squeeze(images[idx]), cmap=\"gray\")\n",
    "    ax.set_title(\"{} ({})\".format(str(preds[idx].item()), str(labels[idx].item())),\n",
    "                color = (\"green\" if preds[idx] == labels[idx] else \"red\"))"
   ]
  },
  {
   "cell_type": "code",
   "execution_count": 9,
   "metadata": {},
   "outputs": [],
   "source": [
    "# Saves the model\n",
    "#print(\"My model: \\n\\n\", model,'\\n')\n",
    "#print(\"The state dict keys: \\n\\n\", model.state_dict().keys())\n",
    "#torch.save(model.state_dict(),\"checkpoint.pth\")"
   ]
  },
  {
   "cell_type": "code",
   "execution_count": 10,
   "metadata": {},
   "outputs": [
    {
     "data": {
      "text/plain": [
       "IncompatibleKeys(missing_keys=[], unexpected_keys=[])"
      ]
     },
     "execution_count": 10,
     "metadata": {},
     "output_type": "execute_result"
    }
   ],
   "source": [
    "# Testing my handwritten digit\n",
    "best_model = Classifier()\n",
    "best_model.load_state_dict(torch.load(\"checkpoint.pt\"))"
   ]
  },
  {
   "cell_type": "code",
   "execution_count": 16,
   "metadata": {},
   "outputs": [
    {
     "data": {
      "image/png": "[encoded data removed]",
      "text/plain": [
       "<matplotlib.figure.Figure at 0x7f5a79c96710>"
      ]
     },
     "metadata": {
      "needs_background": "light"
     },
     "output_type": "display_data"
    }
   ],
   "source": [
    "from PIL import Image\n",
    "from matplotlib.pyplot import imshow\n",
    "import helper\n",
    "\n",
    "#1,2,4,7,8\n",
    "image = Image.open(\"my_handwriting7.jpg\",'r')\n",
    "imshow(image)\n",
    "tr = transforms.Compose([transforms.Resize((28,28)), transforms.Grayscale(num_output_channels=1), transforms.ToTensor(),\n",
    "                                transforms.Normalize((0.5,),(0.5,))])\n",
    "image = tr(image)\n",
    "image = image.view(1,1,784)\n",
    "\n",
    "i = 0\n",
    "for x in image[0][0]:\n",
    "    if x == 1.0:\n",
    "        image[0][0][i] = -1.0\n",
    "    i = i + 1"
   ]
  },
  {
   "cell_type": "code",
   "execution_count": 17,
   "metadata": {},
   "outputs": [
    {
     "data": {
      "image/png": "[encoded data removed]",
      "text/plain": [
       "<matplotlib.figure.Figure at 0x7f5a79b480b8>"
      ]
     },
     "metadata": {
      "needs_background": "light"
     },
     "output_type": "display_data"
    }
   ],
   "source": [
    "logps = best_model(image)\n",
    "ps = torch.exp(logps)\n",
    "helper.view_classify(image.view(1,28,28),ps)"
   ]
  },
  {
   "cell_type": "code",
   "execution_count": 15,
   "metadata": {},
   "outputs": [],
   "source": [
    "#data_iter = iter(train_loader)\n",
    "#images, labels = data_iter.next()\n",
    "#x = model(images[0])\n",
    "#ps = torch.exp(x)\n",
    "#helper.view_classify(images[0].view(1,28,28),ps)"
   ]
  },
  {
   "cell_type": "code",
   "execution_count": null,
   "metadata": {},
   "outputs": [],
   "source": []
  }
 ],
 "metadata": {
  "kernelspec": {
   "display_name": "Python 3",
   "language": "python",
   "name": "python3"
  },
  "language_info": {
   "codemirror_mode": {
    "name": "ipython",
    "version": 3
   },
   "file_extension": ".py",
   "mimetype": "text/x-python",
   "name": "python",
   "nbconvert_exporter": "python",
   "pygments_lexer": "ipython3",
   "version": "3.6.8"
  }
 },
 "nbformat": 4,
 "nbformat_minor": 2
}
